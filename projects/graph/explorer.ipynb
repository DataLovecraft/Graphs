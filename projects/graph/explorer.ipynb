{
 "cells": [
  {
   "cell_type": "code",
   "execution_count": 74,
   "metadata": {},
   "outputs": [],
   "source": [
    "from util import Stack, Queue\n",
    "from typing import List, Set"
   ]
  },
  {
   "cell_type": "code",
   "execution_count": 85,
   "metadata": {},
   "outputs": [],
   "source": [
    "\"\"\"\n",
    "Simple graph implementation\n",
    "\n",
    "\"\"\"\n",
    "\n",
    "class Graph:\n",
    "\n",
    "    \"\"\"Represent a graph as a dictionary of vertices mapping labels to edges.\"\"\"\n",
    "    def __init__(self):\n",
    "        self.vertices = {}\n",
    "\n",
    "    def add_vertex(self, vertex_id: int) -> None:\n",
    "        \"\"\"\n",
    "        Mutates vertices dictionary by adding a new key with an empty value\n",
    "        \"\"\"\n",
    "        self.vertices[vertex_id] = set()\n",
    "\n",
    "    def add_edge(self, v1: int, v2: int) -> None:\n",
    "        \"\"\"\n",
    "        Add a directed edge to the graph.\n",
    "        Note that assignment adds, it does not replace\n",
    "        \"\"\"\n",
    "        if v1 in self.vertices and v2 in self.vertices:\n",
    "            self.vertices[v1].add(v2) #, self.vertices[v2].add(v1)\n",
    "        else:\n",
    "            print(\"Invalid edge, at least one of these does not exist\")\n",
    "    def add_undirected_edge(self, v1: int, v2: int) -> None:\n",
    "        \n",
    "        if v1 in self.vertices and v2 in self.vertices:\n",
    "            self.vertices[v1].add(v2), self.vertices[v2].add(v1)\n",
    "        else:\n",
    "            print(\"Invalid edge, at least one of these does not exist\")        \n",
    "\n",
    "    def get_neighbors(self, vertex_id: int) -> Set[int]:\n",
    "        \"\"\"\n",
    "        Get all neighbors (edges) of a vertex.\n",
    "        \"\"\"\n",
    "        return self.vertices[vertex_id]\n",
    "\n",
    "    def bft(self, starting_vertex: int) -> None:\n",
    "        \"\"\"\n",
    "        Print each vertex in breadth-first order\n",
    "        beginning from starting_vertex.\n",
    "        \"\"\"\n",
    "        q = Queue()\n",
    "        q.enqueue(starting_vertex)\n",
    "        visited_nodes: Set = set()\n",
    "        while q.size() > 0:\n",
    "            curr = q.dequeue()\n",
    "            if curr not in visited_nodes:\n",
    "                print(curr)\n",
    "                visited_nodes.add(curr)\n",
    "                for neighbor in self.get_neighbors(curr):\n",
    "                    q.enqueue(neighbor)\n",
    "        # print(visited_nodes)\n",
    "        # return visited_nodes\n",
    "\n",
    "    def dft(self, starting_vertex: int) -> None:\n",
    "        \"\"\"\n",
    "        Print each vertex in depth-first order\n",
    "        beginning from starting_vertex.\n",
    "        \"\"\"\n",
    "        s = Stack()\n",
    "        s.push(starting_vertex)\n",
    "        visited_nodes: Set = set()\n",
    "        while s.size() > 0:\n",
    "            curr = s.pop()\n",
    "            if curr not in visited_nodes:\n",
    "                print(curr)\n",
    "                visited_nodes.add(curr)\n",
    "                for neighbor in self.get_neighbors(curr):\n",
    "                    s.push(neighbor)\n",
    "       # print(visited_nodes)\n",
    "       # return visited_nodes\n",
    "\n",
    "    # helper function to get around not modifying dft_recursive arguments\n",
    "\n",
    "    def dft_visited_tracker(self, starting_vertex: int, visited: List[bool]) -> None:\n",
    "        \n",
    "        visited[starting_vertex] = True\n",
    "        print(starting_vertex)\n",
    "        for neighbor in self.get_neighbors(starting_vertex):\n",
    "            if visited[neighbor] == False:\n",
    "                self.dft_visited_tracker(neighbor, visited)\n",
    "\n",
    "    def dft_recursive(self, starting_vertex: int) -> None:\n",
    "        \"\"\"\n",
    "        Print each vertex in depth-first order\n",
    "        beginning from starting_vertex.\n",
    "\n",
    "        This should be done using recursion.\n",
    "        \"\"\"\n",
    "        visited = (len(self.vertices) + 1)  * [False]\n",
    "        self.dft_visited_tracker(starting_vertex, visited)\n",
    "        \n",
    "    def bfs(self, starting_vertex: int, destination_vertex: int) -> List[int]:\n",
    "        \"\"\"\n",
    "        Return a list containing the shortest path from\n",
    "        starting_vertex to destination_vertex in\n",
    "        breath-first order. Basically same as BFTraversal\n",
    "        Except we stop once we find our destination\n",
    "        And we have to store the paths in a list\n",
    "        \"\"\"\n",
    "        q = Queue() \n",
    "        q.enqueue([starting_vertex]) # store start as a list element\n",
    "        visited_nodes: Set = set()\n",
    "        while q.size() > 0:\n",
    "            path = q.dequeue() \n",
    "            curr = path[-1] # last node from path, addition from BFT\n",
    "            if curr not in visited_nodes:\n",
    "                # print(curr)\n",
    "                visited_nodes.add(curr)\n",
    "                if curr == destination_vertex: # stop cond, addition from BFT\n",
    "                    return path\n",
    "                for neighbor in self.get_neighbors(curr):\n",
    "                    # addition from BFT, create new path and add neighbor to new path list\n",
    "                    neighbor_path = list(path) \n",
    "                    neighbor_path.append((neighbor))\n",
    "                    q.enqueue(neighbor_path)\n",
    "       # return None \n",
    "        raise Value(\"Oops, there is no path\") \n",
    "\n",
    "    def dfs(self, starting_vertex: int, destination_vertex: int) -> List[int]:\n",
    "        \"\"\"\n",
    "        Return a list containing a path from\n",
    "        starting_vertex to destination_vertex in\n",
    "        depth-first order.\n",
    "        \"\"\"\n",
    "        s = Stack()\n",
    "        s.push([starting_vertex])\n",
    "        visited_nodes: Set = set()\n",
    "        while s.size() > 0:\n",
    "            path = s.pop()\n",
    "            curr = path[-1]\n",
    "            if curr not in visited_nodes:\n",
    "                # print(curr)\n",
    "                visited_nodes.add(curr)\n",
    "                if curr == destination_vertex:\n",
    "                    return path \n",
    "                for neighbor in self.get_neighbors(curr):\n",
    "                    neighbor_path = list(path)\n",
    "                    neighbor_path.append(neighbor)\n",
    "                    s.push(neighbor_path)\n",
    "        raise ValueError(\"Oops, there is no path\") \n",
    "        \n",
    "    def dfs_recursive(self, starting_vertex: int, destination_vertex: int, visited_nodes: set=None, initial_path: List[int]=None) -> List[int]:\n",
    "        \"\"\"\n",
    "        Return a list containing a path from\n",
    "        starting_vertex to destination_vertex in\n",
    "        depth-first order using recursion.\n",
    "        \"\"\"\n",
    "        \n",
    "        if visited_nodes is None:\n",
    "            visited_nodes = set()\n",
    "        if initial_path is None:\n",
    "            initial_path = []\n",
    "        visited_nodes.add(starting_vertex)\n",
    "        next_path = initial_path.copy() # only want to keep branch if it is on the way to destination \n",
    "        next_path.append(starting_vertex)\n",
    "        if starting_vertex == destination_vertex:\n",
    "            print(next_path)\n",
    "            return next_path\n",
    "        else:\n",
    "            for neighbor in self.get_neighbors(starting_vertex):\n",
    "                if neighbor not in visited_nodes:\n",
    "                    neighbor_path = self.dfs_recursive(neighbor, destination_vertex, visited_nodes, next_path)\n",
    "                    if neighbor_path:\n",
    "                        return neighbor_path\n",
    "        # raise ValueError(\"Oops there is no path\") \n",
    "        \n",
    "        def __str__(self):\n",
    "            return f'{dict(self.vertices)}'"
   ]
  },
  {
   "cell_type": "code",
   "execution_count": null,
   "metadata": {},
   "outputs": [],
   "source": [
    "### BFS: \n",
    "\n",
    "def search(name):\n",
    "    search_queue = deque()\n",
    "    search_queue += graph[name]\n",
    "    # This array is how you keep track of which people you've searched before.\n",
    "    searched = []\n",
    "    while search_queue:\n",
    "        person = search_queue.popleft()\n",
    "        # Only search this person if you haven't already searched them.\n",
    "        if person not in searched:\n",
    "            if person_is_seller(person):\n",
    "                print(person + \" is a mango seller!\")\n",
    "                return True\n",
    "            else:\n",
    "                search_queue += graph[person]\n",
    "                # Marks this person as searched\n",
    "                searched.append(person)\n",
    "    return False"
   ]
  },
  {
   "cell_type": "code",
   "execution_count": null,
   "metadata": {},
   "outputs": [],
   "source": [
    "### \n",
    "\n",
    "def search(self, start, target=None, method='dfs'):\n",
    "        \"\"\"Search the graph using BFS or DFS.\"\"\"\n",
    "        quack = [start]  # Queue or stack, depending on method\n",
    "        pop_index = 0 if method == 'bfs' else -1\n",
    "        visited = set([start])\n",
    "\n",
    "        while quack:\n",
    "            current = quack.pop(pop_index)\n",
    "            if current == target:\n",
    "                break\n",
    "            visited.add(current)\n",
    "            # Add possible (unvisited) vertices to queue\n",
    "            quack.extend(self.vertices[current] - visited)\n",
    "            visited.update(self.vertices[current])\n",
    "\n",
    "        return visited\n"
   ]
  },
  {
   "cell_type": "code",
   "execution_count": 86,
   "metadata": {},
   "outputs": [],
   "source": [
    "graph = Graph()  # Instantiate your graph\n",
    "\n",
    "graph.add_vertex(1)\n",
    "graph.add_vertex(2)\n",
    "graph.add_vertex(3)\n",
    "graph.add_vertex(4)\n",
    "graph.add_vertex(5)\n",
    "graph.add_vertex(6)\n",
    "graph.add_vertex(7)"
   ]
  },
  {
   "cell_type": "code",
   "execution_count": 88,
   "metadata": {},
   "outputs": [
    {
     "name": "stdout",
     "output_type": "stream",
     "text": [
      "{1: set(), 2: set(), 3: set(), 4: set(), 5: set(), 6: set(), 7: set()}\n"
     ]
    }
   ],
   "source": [
    "print(graph.vertices)"
   ]
  },
  {
   "cell_type": "code",
   "execution_count": 89,
   "metadata": {},
   "outputs": [],
   "source": [
    "graph.add_edge(5, 3)\n",
    "graph.add_edge(6, 3)\n",
    "graph.add_edge(7, 1)\n",
    "graph.add_edge(4, 7)\n",
    "graph.add_edge(1, 2)\n",
    "graph.add_edge(7, 6)\n",
    "graph.add_edge(2, 4)\n",
    "graph.add_edge(3, 5)\n",
    "graph.add_edge(2, 3)\n",
    "graph.add_edge(4, 6)"
   ]
  },
  {
   "cell_type": "code",
   "execution_count": 90,
   "metadata": {},
   "outputs": [
    {
     "name": "stdout",
     "output_type": "stream",
     "text": [
      "{1: {2}, 2: {3, 4}, 3: {5}, 4: {6, 7}, 5: {3}, 6: {3}, 7: {1, 6}}\n"
     ]
    }
   ],
   "source": [
    "print(graph.vertices)"
   ]
  },
  {
   "cell_type": "code",
   "execution_count": 93,
   "metadata": {},
   "outputs": [
    {
     "name": "stdout",
     "output_type": "stream",
     "text": [
      "1\n",
      "2\n",
      "3\n",
      "4\n",
      "5\n",
      "6\n",
      "7\n"
     ]
    }
   ],
   "source": [
    "graph.bft(1)"
   ]
  },
  {
   "cell_type": "code",
   "execution_count": 94,
   "metadata": {},
   "outputs": [
    {
     "name": "stdout",
     "output_type": "stream",
     "text": [
      "1\n",
      "2\n",
      "3\n",
      "5\n",
      "4\n",
      "6\n",
      "7\n"
     ]
    }
   ],
   "source": [
    "graph.dft_recursive(1)"
   ]
  },
  {
   "cell_type": "code",
   "execution_count": 95,
   "metadata": {},
   "outputs": [
    {
     "name": "stdout",
     "output_type": "stream",
     "text": [
      "[1, 2, 4, 6]\n"
     ]
    }
   ],
   "source": [
    "print(graph.bfs(1, 6))\n"
   ]
  },
  {
   "cell_type": "code",
   "execution_count": 96,
   "metadata": {},
   "outputs": [
    {
     "name": "stdout",
     "output_type": "stream",
     "text": [
      "DFS path\n",
      "[1, 2, 4, 7, 6]\n",
      "Recursive DFS path\n",
      "[1, 2, 4, 6]\n",
      "[1, 2, 4, 6]\n"
     ]
    }
   ],
   "source": [
    "print(\"DFS path\")\n",
    "print(graph.dfs(1, 6))\n",
    "print(\"Recursive DFS path\")\n",
    "print(graph.dfs_recursive(1, 6))"
   ]
  },
  {
   "cell_type": "code",
   "execution_count": null,
   "metadata": {},
   "outputs": [],
   "source": [
    "def find_shortest_path(graph, start, end):\n",
    "        dist = {start: [start]}\n",
    "        q = deque(start)\n",
    "        while len(q):\n",
    "            at = q.popleft()\n",
    "            for next in graph[at]:\n",
    "                if next not in dist:\n",
    "                    dist[next] = [dist[at], next]\n",
    "                    q.append(next)\n",
    "        return dist.get(end)"
   ]
  },
  {
   "cell_type": "code",
   "execution_count": 1,
   "metadata": {},
   "outputs": [],
   "source": [
    "\"\"\"\n",
    "Simple graph implementation compatible with BokehGraph class.\n",
    "\n",
    "\"\"\"\n",
    "\n",
    "\n",
    "class Vertex:\n",
    "    \"\"\"Represent a vertex with a label and possible connected component.\"\"\"\n",
    "    # pylint: disable=too-few-public-methods\n",
    "    # Using class so it's hashable, even though it doesn't have public methods\n",
    "    def __init__(self, label, component=-1):\n",
    "        self.label = str(label)\n",
    "        self.component = component\n",
    "\n",
    "    def __repr__(self):\n",
    "        return 'Vertex: ' + self.label\n",
    "\n",
    "\n",
    "class Graph:\n",
    "    \"\"\"Represent a graph as a dictionary of vertices mapping labels to edges.\"\"\"\n",
    "    def __init__(self):\n",
    "        self.vertices = {}\n",
    "        self.components = 0\n",
    "\n",
    "    def add_vertex(self, vertex, edges=()):\n",
    "        \"\"\"Add a new vertex, optionally with edges to other vertices.\"\"\"\n",
    "        if vertex in self.vertices:\n",
    "            raise Exception('Error: adding vertex that already exists')\n",
    "        if not set(edges).issubset(self.vertices):\n",
    "            raise Exception('Error: cannot have edge to nonexistent vertices')\n",
    "        self.vertices[vertex] = set(edges)\n",
    "\n",
    "    def add_edge(self, start, end, bidirectional=True):\n",
    "        \"\"\"Add a edge (default bidirectional) between two vertices.\"\"\"\n",
    "        if start not in self.vertices or end not in self.vertices:\n",
    "            raise Exception('Vertices to connect not in graph!')\n",
    "        self.vertices[start].add(end)\n",
    "        if bidirectional:\n",
    "            self.vertices[end].add(start)\n",
    "\n",
    "    def search(self, start, target=None, method='dfs'):\n",
    "        \"\"\"Search the graph using BFS or DFS.\"\"\"\n",
    "        quack = [start]  # Queue or stack, depending on method\n",
    "        pop_index = 0 if method == 'bfs' else -1\n",
    "        visited = set([start])\n",
    "\n",
    "        while quack:\n",
    "            current = quack.pop(pop_index)\n",
    "            if current == target:\n",
    "                break\n",
    "            visited.add(current)\n",
    "            # Add possible (unvisited) vertices to queue\n",
    "            quack.extend(self.vertices[current] - visited)\n",
    "            visited.update(self.vertices[current])\n",
    "\n",
    "        return visited\n",
    "\n",
    "    def find_components(self):\n",
    "        \"\"\"Identify components and update vertex component ids.\"\"\"\n",
    "        visited = set()\n",
    "        current_component = 0\n",
    "\n",
    "        for vertex in self.vertices:\n",
    "            if vertex not in visited:\n",
    "                reachable = self.search(vertex)\n",
    "                for other_vertex in reachable:\n",
    "                    other_vertex.component = current_component\n",
    "                current_component += 1\n",
    "                visited.update(reachable)\n",
    "        self.components = current_component"
   ]
  },
  {
   "cell_type": "code",
   "execution_count": 2,
   "metadata": {},
   "outputs": [],
   "source": [
    "graph = Graph()"
   ]
  },
  {
   "cell_type": "code",
   "execution_count": 6,
   "metadata": {},
   "outputs": [
    {
     "ename": "Exception",
     "evalue": "Error: adding vertex that already exists",
     "output_type": "error",
     "traceback": [
      "\u001b[0;31m---------------------------------------------------------------------------\u001b[0m",
      "\u001b[0;31mException\u001b[0m                                 Traceback (most recent call last)",
      "\u001b[0;32m<ipython-input-6-7eb15ec215b9>\u001b[0m in \u001b[0;36m<module>\u001b[0;34m\u001b[0m\n\u001b[0;32m----> 1\u001b[0;31m \u001b[0mgraph\u001b[0m\u001b[0;34m.\u001b[0m\u001b[0madd_vertex\u001b[0m\u001b[0;34m(\u001b[0m\u001b[0;36m1\u001b[0m\u001b[0;34m)\u001b[0m\u001b[0;34m\u001b[0m\u001b[0;34m\u001b[0m\u001b[0m\n\u001b[0m\u001b[1;32m      2\u001b[0m \u001b[0mgraph\u001b[0m\u001b[0;34m.\u001b[0m\u001b[0madd_vertex\u001b[0m\u001b[0;34m(\u001b[0m\u001b[0;36m2\u001b[0m\u001b[0;34m)\u001b[0m\u001b[0;34m\u001b[0m\u001b[0;34m\u001b[0m\u001b[0m\n\u001b[1;32m      3\u001b[0m \u001b[0mgraph\u001b[0m\u001b[0;34m.\u001b[0m\u001b[0madd_vertex\u001b[0m\u001b[0;34m(\u001b[0m\u001b[0;36m3\u001b[0m\u001b[0;34m)\u001b[0m\u001b[0;34m\u001b[0m\u001b[0;34m\u001b[0m\u001b[0m\n\u001b[1;32m      4\u001b[0m \u001b[0mgraph\u001b[0m\u001b[0;34m.\u001b[0m\u001b[0madd_vertex\u001b[0m\u001b[0;34m(\u001b[0m\u001b[0;36m4\u001b[0m\u001b[0;34m)\u001b[0m\u001b[0;34m\u001b[0m\u001b[0;34m\u001b[0m\u001b[0m\n\u001b[1;32m      5\u001b[0m \u001b[0mgraph\u001b[0m\u001b[0;34m.\u001b[0m\u001b[0madd_vertex\u001b[0m\u001b[0;34m(\u001b[0m\u001b[0;36m5\u001b[0m\u001b[0;34m)\u001b[0m\u001b[0;34m\u001b[0m\u001b[0;34m\u001b[0m\u001b[0m\n",
      "\u001b[0;32m<ipython-input-1-0348cdfac9d8>\u001b[0m in \u001b[0;36madd_vertex\u001b[0;34m(self, vertex, edges)\u001b[0m\n\u001b[1;32m     25\u001b[0m         \u001b[0;34m\"\"\"Add a new vertex, optionally with edges to other vertices.\"\"\"\u001b[0m\u001b[0;34m\u001b[0m\u001b[0;34m\u001b[0m\u001b[0m\n\u001b[1;32m     26\u001b[0m         \u001b[0;32mif\u001b[0m \u001b[0mvertex\u001b[0m \u001b[0;32min\u001b[0m \u001b[0mself\u001b[0m\u001b[0;34m.\u001b[0m\u001b[0mvertices\u001b[0m\u001b[0;34m:\u001b[0m\u001b[0;34m\u001b[0m\u001b[0;34m\u001b[0m\u001b[0m\n\u001b[0;32m---> 27\u001b[0;31m             \u001b[0;32mraise\u001b[0m \u001b[0mException\u001b[0m\u001b[0;34m(\u001b[0m\u001b[0;34m'Error: adding vertex that already exists'\u001b[0m\u001b[0;34m)\u001b[0m\u001b[0;34m\u001b[0m\u001b[0;34m\u001b[0m\u001b[0m\n\u001b[0m\u001b[1;32m     28\u001b[0m         \u001b[0;32mif\u001b[0m \u001b[0;32mnot\u001b[0m \u001b[0mset\u001b[0m\u001b[0;34m(\u001b[0m\u001b[0medges\u001b[0m\u001b[0;34m)\u001b[0m\u001b[0;34m.\u001b[0m\u001b[0missubset\u001b[0m\u001b[0;34m(\u001b[0m\u001b[0mself\u001b[0m\u001b[0;34m.\u001b[0m\u001b[0mvertices\u001b[0m\u001b[0;34m)\u001b[0m\u001b[0;34m:\u001b[0m\u001b[0;34m\u001b[0m\u001b[0;34m\u001b[0m\u001b[0m\n\u001b[1;32m     29\u001b[0m             \u001b[0;32mraise\u001b[0m \u001b[0mException\u001b[0m\u001b[0;34m(\u001b[0m\u001b[0;34m'Error: cannot have edge to nonexistent vertices'\u001b[0m\u001b[0;34m)\u001b[0m\u001b[0;34m\u001b[0m\u001b[0;34m\u001b[0m\u001b[0m\n",
      "\u001b[0;31mException\u001b[0m: Error: adding vertex that already exists"
     ]
    }
   ],
   "source": [
    "graph.add_vertex(1)\n",
    "graph.add_vertex(2)\n",
    "graph.add_vertex(3)\n",
    "graph.add_vertex(4)\n",
    "graph.add_vertex(5)\n",
    "graph.add_vertex(6)\n",
    "graph.add_vertex(7)"
   ]
  },
  {
   "cell_type": "code",
   "execution_count": 7,
   "metadata": {},
   "outputs": [],
   "source": [
    "graph.add_edge(5, 3)\n",
    "graph.add_edge(6, 3)\n",
    "graph.add_edge(7, 1)\n",
    "graph.add_edge(4, 7)\n",
    "graph.add_edge(1, 2)\n",
    "graph.add_edge(7, 6)\n",
    "graph.add_edge(2, 4)\n",
    "graph.add_edge(3, 5)\n",
    "graph.add_edge(2, 3)\n",
    "graph.add_edge(4, 6)"
   ]
  },
  {
   "cell_type": "code",
   "execution_count": 8,
   "metadata": {},
   "outputs": [
    {
     "data": {
      "text/plain": [
       "{1: {2, 7},\n",
       " 2: {1, 3, 4},\n",
       " 3: {2, 5, 6},\n",
       " 4: {2, 6, 7},\n",
       " 5: {3},\n",
       " 6: {3, 4, 7},\n",
       " 7: {1, 4, 6}}"
      ]
     },
     "execution_count": 8,
     "metadata": {},
     "output_type": "execute_result"
    }
   ],
   "source": [
    "graph.vertices"
   ]
  },
  {
   "cell_type": "code",
   "execution_count": 9,
   "metadata": {},
   "outputs": [
    {
     "data": {
      "text/plain": [
       "{1, 2, 3, 4, 5, 6, 7}"
      ]
     },
     "execution_count": 9,
     "metadata": {},
     "output_type": "execute_result"
    }
   ],
   "source": [
    "graph.search(1)"
   ]
  },
  {
   "cell_type": "code",
   "execution_count": 11,
   "metadata": {},
   "outputs": [
    {
     "data": {
      "text/plain": [
       "{1, 2, 4, 6, 7}"
      ]
     },
     "execution_count": 11,
     "metadata": {},
     "output_type": "execute_result"
    }
   ],
   "source": [
    "graph.search(1, 6)"
   ]
  },
  {
   "cell_type": "code",
   "execution_count": null,
   "metadata": {},
   "outputs": [],
   "source": []
  }
 ],
 "metadata": {
  "kernelspec": {
   "display_name": "Python 3",
   "language": "python",
   "name": "python3"
  },
  "language_info": {
   "codemirror_mode": {
    "name": "ipython",
    "version": 3
   },
   "file_extension": ".py",
   "mimetype": "text/x-python",
   "name": "python",
   "nbconvert_exporter": "python",
   "pygments_lexer": "ipython3",
   "version": "3.8.5"
  }
 },
 "nbformat": 4,
 "nbformat_minor": 4
}
