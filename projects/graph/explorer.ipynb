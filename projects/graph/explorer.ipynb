{
 "cells": [
  {
   "cell_type": "code",
   "execution_count": 1,
   "metadata": {},
   "outputs": [],
   "source": [
    "from util import Stack, Queue"
   ]
  },
  {
   "cell_type": "code",
   "execution_count": 68,
   "metadata": {},
   "outputs": [],
   "source": [
    "class Graph:\n",
    "\n",
    "    \"\"\"Represent a graph as a dictionary of vertices mapping labels to edges.\"\"\"\n",
    "    def __init__(self):\n",
    "        self.vertices = {}\n",
    "\n",
    "    def add_vertex(self, vertex_id, edges=()):\n",
    "        \"\"\"\n",
    "        Add a vertex to the graph.\n",
    "        \"\"\"\n",
    "        if vertex_id in self.vertices:\n",
    "            raise Exception('Error: Cannot add a vertex that already exists')\n",
    "        if not set(edges).issubset(self.vertices):\n",
    "            raise Exception('Error: Cannot add edge to nonexisting vertices')\n",
    "        self.vertices[vertex_id] = set(edges)\n",
    "        \n",
    "    def add_edge(self, v1, v2):\n",
    "        \"\"\"\n",
    "        Add a directed edge to the graph.\n",
    "        \"\"\"\n",
    "        if v1 and v2 not in self.vertices:\n",
    "            raise Exception('Vertices are not in the graph!')\n",
    "        self.vertices[v1].add(v2)\n",
    "\n",
    "    def get_neighbors(self, vertex_id):\n",
    "        \"\"\"\n",
    "        Get all neighbors (edges) of a vertex.\n",
    "        \"\"\"\n",
    "        return self.vertices[vertex_id]\n",
    "\n",
    "    def bft(self, starting_vertex):\n",
    "        \"\"\"\n",
    "        Print each vertex in breadth-first order\n",
    "        beginning from starting_vertex.\n",
    "        \"\"\"\n",
    "        # create an empty queue and enqueue that starting vertex ID:\n",
    "        q = Queue()\n",
    "        q.enqueue(starting_vertex)\n",
    "        \n",
    "        # create a set to store visited nodes:\n",
    "        visited_nodes = set()\n",
    "        \n",
    "        while q.size() > 0:\n",
    "            curr = q.dequeue()\n",
    "            if curr not in visited_nodes:\n",
    "                print(curr)\n",
    "                visited_nodes.add(curr)\n",
    "                for neighbor in self.get_neighbors(curr):\n",
    "                    q.enqueue(neighbor)\n",
    "\n",
    "    def dft(self, starting_vertex):\n",
    "        \"\"\"\n",
    "        Print each vertex in depth-first order\n",
    "        beginning from starting_vertex.\n",
    "        \"\"\"\n",
    "        pass  # TODO\n",
    "\n",
    "    def dft_recursive(self, starting_vertex):\n",
    "        \"\"\"\n",
    "        Print each vertex in depth-first order\n",
    "        beginning from starting_vertex.\n",
    "\n",
    "        This should be done using recursion.\n",
    "        \"\"\"\n",
    "        pass  # TODO\n",
    "\n",
    "    def bfs(self, starting_vertex, destination_vertex):\n",
    "        \"\"\"\n",
    "        Return a list containing the shortest path from\n",
    "        starting_vertex to destination_vertex in\n",
    "        breath-first order.\n",
    "        \"\"\"\n",
    "        pass  # TODO\n",
    "\n",
    "    def dfs(self, starting_vertex, destination_vertex):\n",
    "        \"\"\"\n",
    "        Return a list containing a path from\n",
    "        starting_vertex to destination_vertex in\n",
    "        depth-first order.\n",
    "        \"\"\"\n",
    "        pass  # TODO\n",
    "\n",
    "    def dfs_recursive(self, starting_vertex, destination_vertex):\n",
    "        \"\"\"\n",
    "        Return a list containing a path from\n",
    "        starting_vertex to destination_vertex in\n",
    "        depth-first order.\n",
    "\n",
    "        This should be done using recursion.\n",
    "        \"\"\"\n",
    "        pass  # TODO\n",
    "    \n",
    "    def __str__(self):\n",
    "        return f'{dict(self.vertices)}'"
   ]
  },
  {
   "cell_type": "code",
   "execution_count": 69,
   "metadata": {},
   "outputs": [],
   "source": [
    "graph = Graph()  # Instantiate your graph\n",
    "\n",
    "graph.add_vertex(1)\n",
    "graph.add_vertex(2)\n",
    "graph.add_vertex(3)\n",
    "graph.add_vertex(4)\n",
    "graph.add_vertex(5)\n",
    "graph.add_vertex(6)\n",
    "graph.add_vertex(7)"
   ]
  },
  {
   "cell_type": "code",
   "execution_count": 70,
   "metadata": {},
   "outputs": [
    {
     "name": "stdout",
     "output_type": "stream",
     "text": [
      "{1: set(), 2: set(), 3: set(), 4: set(), 5: set(), 6: set(), 7: set()}\n"
     ]
    }
   ],
   "source": [
    "print(graph)"
   ]
  },
  {
   "cell_type": "code",
   "execution_count": 71,
   "metadata": {},
   "outputs": [],
   "source": [
    "graph.add_edge(5, 3)\n",
    "graph.add_edge(6, 3)\n",
    "graph.add_edge(7, 1)\n",
    "graph.add_edge(4, 7)\n",
    "graph.add_edge(1, 2)\n",
    "graph.add_edge(7, 6)\n",
    "graph.add_edge(2, 4)\n",
    "graph.add_edge(3, 5)\n",
    "graph.add_edge(2, 3)\n",
    "graph.add_edge(4, 6)"
   ]
  },
  {
   "cell_type": "code",
   "execution_count": 72,
   "metadata": {},
   "outputs": [
    {
     "name": "stdout",
     "output_type": "stream",
     "text": [
      "{1: {2}, 2: {3, 4}, 3: {5}, 4: {6, 7}, 5: {3}, 6: {3}, 7: {1, 6}}\n"
     ]
    }
   ],
   "source": [
    "print(graph)"
   ]
  },
  {
   "cell_type": "code",
   "execution_count": 73,
   "metadata": {},
   "outputs": [
    {
     "name": "stdout",
     "output_type": "stream",
     "text": [
      "1\n",
      "2\n",
      "3\n",
      "4\n",
      "5\n",
      "6\n",
      "7\n"
     ]
    }
   ],
   "source": [
    "graph.bft(1)"
   ]
  },
  {
   "cell_type": "code",
   "execution_count": null,
   "metadata": {},
   "outputs": [],
   "source": []
  }
 ],
 "metadata": {
  "kernelspec": {
   "display_name": "Python 3",
   "language": "python",
   "name": "python3"
  },
  "language_info": {
   "codemirror_mode": {
    "name": "ipython",
    "version": 3
   },
   "file_extension": ".py",
   "mimetype": "text/x-python",
   "name": "python",
   "nbconvert_exporter": "python",
   "pygments_lexer": "ipython3",
   "version": "3.8.5"
  }
 },
 "nbformat": 4,
 "nbformat_minor": 4
}
